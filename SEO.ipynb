{
 "cells": [
  {
   "cell_type": "markdown",
   "id": "4935d965",
   "metadata": {},
   "source": [
    "webscraping for sitemaps"
   ]
  },
  {
   "cell_type": "code",
   "execution_count": 41,
   "id": "19eb0dd0",
   "metadata": {},
   "outputs": [],
   "source": [
    "import requests\n",
    "from bs4 import BeautifulSoup\n",
    "from concurrent.futures import ThreadPoolExecutor, as_completed"
   ]
  },
  {
   "cell_type": "markdown",
   "id": "9d82dcdc",
   "metadata": {},
   "source": [
    "Get URLs from sitemap"
   ]
  },
  {
   "cell_type": "code",
   "execution_count": 42,
   "id": "c22bffcc",
   "metadata": {},
   "outputs": [],
   "source": [
    "sitemap_url = \"https://www.yarnit.app/sitemap.xml\"\n",
    "page = requests.get(sitemap_url)\n",
    "soup = BeautifulSoup(page.content, 'xml')\n",
    "urls = [loc.get_text().strip() for loc in soup.find_all('loc') if '.pdf' not in loc.get_text()]\n"
   ]
  },
  {
   "cell_type": "markdown",
   "id": "2140929f",
   "metadata": {},
   "source": [
    "Full Data Collection Code (Build site_content_index)"
   ]
  },
  {
   "cell_type": "code",
   "execution_count": 43,
   "id": "6b269c75",
   "metadata": {},
   "outputs": [],
   "source": [
    "def extract_page_data(url):\n",
    "    try:\n",
    "        res = requests.get(url, timeout=5)\n",
    "        res.raise_for_status()\n",
    "        soup = BeautifulSoup(res.content, 'html.parser')\n",
    "\n",
    "        title = soup.title.get_text(strip=True) if soup.title else \"\"\n",
    "\n",
    "        # Meta description\n",
    "        meta_tag = soup.find(\"meta\", attrs={\"name\": \"description\"})\n",
    "        meta_description = meta_tag[\"content\"].strip() if meta_tag and \"content\" in meta_tag.attrs else \"\"\n",
    "\n",
    "        # Headings\n",
    "        h1_tags = [h.get_text(strip=True) for h in soup.find_all(\"h1\")]\n",
    "        h2_tags = [h.get_text(strip=True) for h in soup.find_all(\"h2\")]\n",
    "        h3_tags = [h.get_text(strip=True) for h in soup.find_all(\"h3\")]\n",
    "\n",
    "        return {\n",
    "            \"url\": url,\n",
    "            \"title\": title,\n",
    "            \"meta_description\": meta_description,\n",
    "            \"h1\": h1_tags,\n",
    "            \"h2\": h2_tags,\n",
    "            \"h3\": h3_tags\n",
    "        }\n",
    "\n",
    "    except Exception as e:\n",
    "        return {\n",
    "            \"url\": url,\n",
    "            \"title\": f\"Error: {e}\",\n",
    "            \"meta_description\": \"\",\n",
    "            \"h1\": [],\n",
    "            \"h2\": [],\n",
    "            \"h3\": []\n",
    "        }\n"
   ]
  },
  {
   "cell_type": "markdown",
   "id": "73bcd58f",
   "metadata": {},
   "source": [
    "parallel execution"
   ]
  },
  {
   "cell_type": "code",
   "execution_count": 44,
   "id": "c75c66e7",
   "metadata": {},
   "outputs": [],
   "source": [
    "site_content_index = []\n",
    "\n",
    "with ThreadPoolExecutor(max_workers=10) as executor:\n",
    "    futures = {executor.submit(extract_page_data, url): url for url in urls}\n",
    "    for future in as_completed(futures):\n",
    "        result = future.result()\n",
    "        site_content_index.append(result)\n"
   ]
  },
  {
   "cell_type": "markdown",
   "id": "be1970ab",
   "metadata": {},
   "source": [
    "Print all results at once"
   ]
  },
  {
   "cell_type": "code",
   "execution_count": 45,
   "id": "7d3c1203",
   "metadata": {},
   "outputs": [
    {
     "name": "stdout",
     "output_type": "stream",
     "text": [
      "✅ https://www.yarnit.app/contextual-intelligence\n",
      "→ AI-Powered Contextual Intelligence | Smart Content Creation | Yarnit\n",
      "\n",
      "✅ https://www.yarnit.app/agency\n",
      "→ AI Marketing Tools for Agencies | Yarnit\n",
      "\n",
      "✅ https://www.yarnit.app/security\n",
      "→ Secure AI Content Creation | Enterprise-grade Security | Yarnit\n",
      "\n",
      "✅ https://www.yarnit.app/manufacturing\n",
      "→ AI Content Creation for Manufacturing | Yarnit\n",
      "\n",
      "✅ https://www.yarnit.app/healthcare\n",
      "→ AI Content Solutions for Healthcare | Yarnit\n",
      "\n",
      "✅ https://www.yarnit.app/responsible-ai\n",
      "→ Ethical AI Content Creation | Responsible AI Practices | Yarnit\n",
      "\n",
      "✅ https://www.yarnit.app/ai-writing\n",
      "→ AI Writer & Content Generator | Create Engaging Content with Yarnit\n",
      "\n",
      "✅ https://www.yarnit.app/campaign-manager\n",
      "→ AI-Powered Campaign Management | Yarnit Marketing Platform\n",
      "\n",
      "✅ https://www.yarnit.app\n",
      "→ Yarnit | Your Complete AI Marketing Team\n",
      "\n",
      "✅ https://www.yarnit.app/blog\n",
      "→ AI Marketing & Content Creation Blog | Yarnit Academy\n",
      "\n",
      "✅ https://www.yarnit.app/technology\n",
      "→ AI Content Solutions for Tech Companies | Yarnit\n",
      "\n",
      "✅ https://www.yarnit.app/content-marketing-with-ai\n",
      "→ AI-Powered Content Marketing Solutions | Yarnit\n",
      "\n",
      "✅ https://www.yarnit.app/ecommerce-and-retail\n",
      "→ AI Marketing Solutions for Ecommerce | Yarnit\n",
      "\n",
      "✅ https://www.yarnit.app/media-and-publishing\n",
      "→ AI Content Creation for Publishers | Yarnit\n",
      "\n",
      "✅ https://www.yarnit.app/brand-personality-voice\n",
      "→ AI Brand Voice | Consistent Brand Communication | Yarnit\n",
      "\n",
      "✅ https://www.yarnit.app/analytics\n",
      "→ Content Publishing & Performance Analytics | Yarnit\n",
      "\n",
      "✅ https://www.yarnit.app/knowledge-hub\n",
      "→ Yarnit Knowledge Hub | Contextual AI Marketing Platform\n",
      "\n",
      "✅ https://www.yarnit.app/brand-guidelines-templates\n",
      "→ AI-Powered Brand Visual Management | Yarnit\n",
      "\n",
      "✅ https://www.yarnit.app/ai-design\n",
      "→ AI Art & Image Generation | Creative Content Production | Yarnit\n",
      "\n",
      "✅ https://www.yarnit.app/ai-art\n",
      "→ Best AI Art Generator | Create Custom Images with Yarnit\n",
      "\n",
      "✅ https://www.yarnit.app/social-media-marketing\n",
      "→ AI Social Media Marketing Tools | Content Creation | Yarnit\n",
      "\n",
      "✅ https://www.yarnit.app/seo-content-ideas\n",
      "→ AI-Powered Content Strategy & SEO Tools | Yarnit\n",
      "\n",
      "✅ https://www.yarnit.app/product-marketing\n",
      "→ AI Product Marketing Tools | Content Generation | Yarnit\n",
      "\n",
      "✅ https://www.yarnit.app/ask-yarnit\n",
      "→ Ask Yarnit | Agentic AI Marketing Team\n",
      "\n",
      "✅ https://www.yarnit.app/digital-marketing\n",
      "→ AI Digital Marketing Platform | Automated Marketing Solutions | Yarnit\n",
      "\n",
      "✅ https://www.yarnit.app/contact-us\n",
      "→ Contact Us | Yarnit\n",
      "\n",
      "✅ https://www.yarnit.app/24yarns-newsletter\n",
      "→ AI Marketing Insights Newsletter | 24Yarns by Yarnit\n",
      "\n",
      "✅ https://www.yarnit.app/about-us\n",
      "→ About Us | Yarnit\n",
      "\n",
      "✅ https://www.yarnit.app/resources\n",
      "→ AI Content Creation Resources | Yarnit\n",
      "\n",
      "✅ https://www.yarnit.app/yarnit-ai-agents\n",
      "→ Yarnit AI Agents: Revolutionize Your Marketing with Smart Automation\n",
      "\n",
      "✅ https://www.yarnit.app/ai-apps\n",
      "→ 100+ AI Marketing  Apps | Yarnit\n",
      "\n",
      "✅ https://www.yarnit.app/yandex-ai-advertising-solutions\n",
      "→ Yandex Avertising solutions with AI\n",
      "\n",
      "✅ https://www.yarnit.app/tutorials\n",
      "→ AI Marketing Platform Tutorials | Yarnit\n",
      "\n",
      "✅ https://www.yarnit.app/affiliate-program\n",
      "→ Affiliate Program\n",
      "\n",
      "✅ https://www.yarnit.app/ai-prompt-library\n",
      "→ AI Prompt Library | Marketing AI Prompts | Yarnit\n",
      "\n",
      "✅ https://www.yarnit.app/search\n",
      "→ Search Results\n",
      "\n",
      "✅ https://www.yarnit.app/untitled\n",
      "→ Untitled\n",
      "\n",
      "✅ https://www.yarnit.app/post/10-instagram-stories-hacks-to-skyrocket-your-brand-s-visibility\n",
      "→ 10 Instagram Stories Hacks for Brand Visibility | AI Image Creator\n",
      "\n",
      "✅ https://www.yarnit.app/post/12-best-ai-agent-platforms-to-use\n",
      "→ 12 Best AI Agent Platforms to Use | Yarnit\n",
      "\n",
      "✅ https://www.yarnit.app/post/20-ai-agent-use-cases-in-marketing\n",
      "→ 20 AI Agent Use Cases in Marketing | Advanced AI Applications\n",
      "\n",
      "✅ https://www.yarnit.app/post/10-surefire-strategies-to-skyrocket-your-instagram-engagement\n",
      "→ 10 Strategies to Boost Instagram Engagement with AI Images\n",
      "\n",
      "✅ https://www.yarnit.app/post/10-ai-powered-content-strategies-to-boost-your-marketing-roi-in-2025\n",
      "→ 10 AI-Powered Content Strategies for 2025 | AI Text Generator\n",
      "\n",
      "✅ https://www.yarnit.app/ai-art-ebook\n",
      "→ AI Content Creation Resources | Yarnit\n",
      "\n",
      "✅ https://www.yarnit.app/post/10-ai-productivity-tools-you-need-to-have-in-2025\n",
      "→ 10 Best AI Productivity Tools You Need in 2025 | AI Writer & AI Text Generator\n",
      "\n",
      "✅ https://www.yarnit.app/post/20-marketing-ideas-for-smbs-in-2025\n",
      "→ 20 Marketing Ideas for SMBs in 2025 | AI Content Solutions\n",
      "\n",
      "✅ https://www.yarnit.app/post/30-ai-art-prompt-templates-for-b2b-marketing\n",
      "→ Elevate B2B Marketing: 30 AI Art Prompts for Visual Excellence\n",
      "\n",
      "✅ https://www.yarnit.app/faq\n",
      "→ FAQ's\n",
      "\n",
      "✅ https://www.yarnit.app/post/5-stages-of-generative-ai-project-lifecycle\n",
      "→ 5 Stages of Generative AI Project Lifecycle | AI Art Generation\n",
      "\n",
      "✅ https://www.yarnit.app/post/5-tools-you-need-to-generate-content-ideas\n",
      "→ 5 Essential Tools for Content Idea Generation | AI Text Generator\n",
      "\n",
      "✅ https://www.yarnit.app/post/5-ways-to-make-ai-content-seo-friendly\n",
      "→ SEO-Friendly AI Content: 5 Strategies to Avoid Google Penalties\n",
      "\n",
      "✅ https://www.yarnit.app/post/5-strategies-to-rank-on-chatgpt-a-comprehensive-guide\n",
      "→ Boost AI Visibility: 5 ChatGPT Ranking Techniques\n",
      "\n",
      "✅ https://www.yarnit.app/post/5-steps-to-writing-high-converting-email-copy-with-ai-tools\n",
      "→ Boost Email ROI: 5 Steps to High-Converting Email Copy with AI Tools\n",
      "\n",
      "✅ https://www.yarnit.app/post/5-agentic-ai-marketing-platforms-to-use-in-your-2025-strategy\n",
      "→ Top 5 AI Marketing Platforms for 2025: Strategize with Agentic AI\n",
      "\n",
      "✅ https://www.yarnit.app/post/7-factors-that-affect-ai-search-rankings-aeo-guide\n",
      "→ 7 Factors That Influence AI Search Rankings in 2025 | Modern SEO Guide\n",
      "\n",
      "✅ https://www.yarnit.app/post/50-prompts-to-humanize-ai-content-tips-tricks-and-more\n",
      "→ 50 Prompts to Humanize AI Content: AI Content Humanizer\n",
      "\n",
      "✅ https://www.yarnit.app/post/7-tips-to-get-your-product-to-ace-amazon-seo\n",
      "→ 7 Proven Amazon SEO Tips to Boost Your Product's Visibility & Sales\n",
      "\n",
      "✅ https://www.yarnit.app/post/7-tips-to-help-you-write-a-viral-instagram-caption\n",
      "→ 7 Tips for Viral Instagram Captions\n",
      "\n",
      "✅ https://www.yarnit.app/post/7-ai-marketing-tools-you-should-use-in-2025\n",
      "→ 7 Best AI Marketing Tools for 2025: Boost Efficiency & Engagement\n",
      "\n",
      "✅ https://www.yarnit.app/post/8-creative-ways-to-engage-customers-during-the-festive-season\n",
      "→ 8 Creative Ways to Engage Customers with AI Images This Holiday Season\n",
      "\n",
      "✅ https://www.yarnit.app/post/7-linkedin-features-youre-not-using-for-your-b2b-strategy\n",
      "→ 7 LinkedIn Features for B2B Success | Yarnit\n",
      "\n",
      "✅ https://www.yarnit.app/post/7-ai-powered-products-that-you-as-a-content-marketer-should-use-in-2023\n",
      "→ 7 Must-Have AI-Powered Products for Content Marketers in 2025 | AI Text Generator\n",
      "\n",
      "✅ https://www.yarnit.app/post/7-key-prompt-engineering-parameters-everyone-should-know\n",
      "→ 7 Key Prompt Engineering Parameters Everyone Should Know\n",
      "\n",
      "✅ https://www.yarnit.app/post/agentic-ai-vs-ai-agents-understanding-the-differences-and-making-the-right-choice\n",
      "→ Agentic AI vs. AI Agents: Choosing Right\n",
      "\n",
      "✅ https://www.yarnit.app/post/a-guide-to-niche-social-media-platforms-in-2025\n",
      "→ Top Niche Social Media Platforms for Marketing in 2025 (+ AI Strategies)\n",
      "\n",
      "✅ https://www.yarnit.app/post/7-ways-to-humanize-ai-generated-content\n",
      "→ 7 Proven Ways to Humanize AI-Generated Content for SEO\n",
      "\n",
      "✅ https://www.yarnit.app/post/ai-agents-101-what-are-ai-agents\n",
      "→ AI Agents Explained: Definition, Workings, and More\n",
      "\n",
      "✅ https://www.yarnit.app/post/ai-agents-for-featured-snippet-optimization-the-complete-guide\n",
      "→ How to get Featured Snippet Spot on Google | AI Agents for SEO\n",
      "\n",
      "✅ https://www.yarnit.app/post/ai-agents-in-marketing-how-ai-can-help-marketers\n",
      "→ AI Agents in Marketing: How AI Can Supercharge Your Marketing Strategy\n",
      "\n",
      "✅ https://www.yarnit.app/post/ai-agents-explained-what-they-are-how-they-work-multi-agent-systems\n",
      "→ AI Agents Explained: Types, Multi-Agent Systems & Marketing Uses\n",
      "\n",
      "✅ https://www.yarnit.app/post/ai-agents-for-sales-and-marketing-b2b-customer-engagement-guide\n",
      "→ AI Chatbots: Transforming Customer Engagement in the Digital Era | Yarnit\n",
      "\n",
      "✅ https://www.yarnit.app/post/ai-agents-for-trend-analysis\n",
      "→ AI Agents for Marketing | Trend Analysis with AI\n",
      "\n",
      "✅ https://www.yarnit.app/post/ai-agents-for-generative-experience-optimization-geo\n",
      "→ Generative Engine Optimization (GEO) Automation with AI Agents\n",
      "\n",
      "✅ https://www.yarnit.app/post/ai-agents-for-on-page-seo\n",
      "→ How AI Agents Are Transforming On-Page SEO\n",
      "\n",
      "✅ https://www.yarnit.app/post/ai-agents-for-e-commerce-product-descriptions-and-more\n",
      "→ AI Agents for E-Commerce Content: Amazon, Shopify, and More\n",
      "\n",
      "✅ https://www.yarnit.app/post/ai-art-b2b-marketing-legal-essentials-for-todays-marketer\n",
      "→ AI Art in B2B Marketing: Legal Essentials Every Brand Should Know | Yarnit\n",
      "\n",
      "✅ https://www.yarnit.app/post/ai-chatbots-vs-ai-agents-differences-explained\n",
      "→ AI Chatbots vs. AI Agents: Differences, Usecases, Applications Explained\n",
      "\n",
      "✅ https://www.yarnit.app/post/ai-for-marketers-how-to-ground-ai-with-data-for-better-marketing-outcomes\n",
      "→ AI for Marketers: Data-Driven Approaches | AI Text Generator Guide\n",
      "\n",
      "✅ https://www.yarnit.app/post/are-you-creating-content-or-stories\n",
      "→ Are you creating content or stories?\n",
      "\n",
      "✅ https://www.yarnit.app/post/amazon-product-details-best-practices-tips-and-tricks\n",
      "→ Boost Amazon Sales: Product Detail Best Practices | Yarnit\n",
      "\n",
      "✅ https://www.yarnit.app/post/ai-for-b2b-market-research-transforming-data-into-strategic-advantage\n",
      "→ AI for B2B Market Research\n",
      "\n",
      "✅ https://www.yarnit.app/post/ai-shopping-engines-a-look-into-the-future-of-shopping\n",
      "→ How AI Shopping Engines are transforming the future of shopping\n",
      "\n",
      "✅ https://www.yarnit.app/post/are-you-building-an-authentic-connection-with-your-customers\n",
      "→ Brand Voice & Tone: The Ultimate Guide to Authentic Customer Connections\n",
      "\n",
      "✅ https://www.yarnit.app/post/b2b-content-marketing-strategies-for-2025\n",
      "→ B2B Content Marketing Strategies for 2025: AI, Video & Hyper-Personalization\n",
      "\n",
      "✅ https://www.yarnit.app/post/avoid-these-common-content-creation-mistakes\n",
      "→ Avoid These Common Content Creation Mistakes | SEO & Engagement Tips\n",
      "\n",
      "✅ https://www.yarnit.app/post/ai-content-creation-10-frameworks-to-write-ad-copy-with-ai\n",
      "→ AI Content Creation: 10 Proven Frameworks for High-Converting Ad Copy\n",
      "\n",
      "✅ https://www.yarnit.app/post/b2b-marketing-guide-for-2025-strategies-to-lead-the-future\n",
      "→ B2B Marketing Guide 2025: Winning Strategies to Dominate Your Industry\n",
      "\n",
      "✅ https://www.yarnit.app/post/become-a-visual-storytelling-pro-learn-the-secrets-of-semiotics-and-design\n",
      "→ Become a Visual Storytelling Pro: Learn the Secrets of Semiotics and Design\n",
      "\n",
      "✅ https://www.yarnit.app/post/best-practices-for-product-description-pages-in-2025-2\n",
      "→ Effective Strategies to Write Best Practices for Product Description Pages in 2025\n",
      "\n",
      "✅ https://www.yarnit.app/post/brand-focused-ai-content-insights-for-the-modern-marketer\n",
      "→ Brand-Focused AI Content: How Marketers Can Utilize AI in 2025\n",
      "\n",
      "✅ https://www.yarnit.app/post/brand-voice-what-it-is-examples-and-templates\n",
      "→ Why Brand Voice Matters: Examples, Tips & AI Tools for Consistency\n",
      "\n",
      "✅ https://www.yarnit.app/post/crafting-captivating-social-media-captions-8-techniques-to-mesmerize-your-fashion-enthusiasts\n",
      "→ Mesmerizing Fashion Captions: 8 Proven Techniques\n",
      "\n",
      "✅ https://www.yarnit.app/post/conversing-with-documents-unleashing-the-power-of-llms-and-langchain\n",
      "→ Conversing with Documents: Unleashing the Power of LLMs and LangChain\n",
      "\n",
      "✅ https://www.yarnit.app/post/content-gap-analysis-with-ai-agents-a-step-by-step-guide\n",
      "→ Content Gap Analysis with Agentic AI Marketing\n",
      "\n",
      "✅ https://www.yarnit.app/post/context-is-key-the-significance-of-rag-in-language-models\n",
      "→ RAG AI Explained: How Retrieval-Augmented Generation Solves LLM Limitations\n",
      "\n",
      "✅ https://www.yarnit.app/post/creating-impact-a-spotlight-on-6-practical-retrieval-augmented-generation-use-cases\n",
      "→ 6 Game-Changing RAG Use Cases: From Document Q&A to Real-Time AI\n",
      "\n",
      "✅ https://www.yarnit.app/post/customer-segmentation-in-2025-beyond-the-basics\n",
      "→ Customer Segmentation with AI: Transform Your Marketing Strategy\n",
      "\n",
      "✅ https://www.yarnit.app/post/contextual-ai-the-future-of-ai-in-marketing\n",
      "→ Contextual AI in Marketing: How RAG & Knowledge Graphs Transform Content\n",
      "\n",
      "✅ https://www.yarnit.app/post/elevating-your-content-master-yarnit-with-these-5-pro-tips\n",
      "→ Elevating AI-Generated Content: Master Yarnit with These 5 Pro Tips\n",
      "\n",
      "✅ https://www.yarnit.app/post/from-bland-to-brilliant-transform-your-content-with-visual-storytelling\n",
      "→ From Bland to Brilliant: Transform Your Content with Visual Storytelling\n",
      "\n",
      "✅ https://www.yarnit.app/post/crafting-your-story-the-art-of-personal-bios\n",
      "→ How to Write Your Personal Bio\n",
      "\n",
      "✅ https://www.yarnit.app/post/evolution-of-storytelling-from-the-stone-age-to-the-digital-era\n",
      "→ The Evolution of Storytelling: From Cave Paintings to Digital Narratives\n",
      "\n",
      "✅ https://www.yarnit.app/post/generative-engine-optimization-geo-explained-geo-vs-seo\n",
      "→ What is GEO? Generative Engine Optimization, GEO vs. SEO Explained\n",
      "\n",
      "✅ https://www.yarnit.app/post/decoding-the-relationship-between-ai-generated-content-and-seo\n",
      "→ Machine-Generated Content Impact: SEO Performance & Ranking Factors Guide\n",
      "\n",
      "✅ https://www.yarnit.app/post/creating-better-b2b-content-with-subject-matter-experts-a-comprehensive-guide\n",
      "→ Expert-Driven B2B Content: SME Collaboration with AI | Yarnit\n",
      "\n",
      "✅ https://www.yarnit.app/post/good-ux-is-good-storytelling-or-is-it\n",
      "→ Good UX is good storytelling...Or is it?\n",
      "\n",
      "✅ https://www.yarnit.app/post/giving-thanks-5-heartwarming-stories-of-gratitude\n",
      "→ Giving Thanks: 5 Heartwarming Stories of Gratitude\n",
      "\n",
      "✅ https://www.yarnit.app/post/has-thought-leadership-in-b2b-marketing-changed-in-2025\n",
      "→ What Does it Mean to Be a Thought Leader in 2025?\n",
      "\n",
      "✅ https://www.yarnit.app/post/how-to-boost-serp-rankings-with-ai-agents\n",
      "→ Rank High in Search Results with AI Agents\n",
      "\n",
      "✅ https://www.yarnit.app/post/how-to-choose-the-perfect-concluding-signatures-for-your-emails\n",
      "→ Perfect Email Signatures: How to Choose the Right Closing\n",
      "\n",
      "✅ https://www.yarnit.app/post/how-to-create-a-product-details-page-that-converts\n",
      "→ Create High-Converting Product Pages: Proven Strategies | Yarnit\n",
      "\n",
      "✅ https://www.yarnit.app/post/how-to-create-a-complete-marketing-strategy-for-2025\n",
      "→ 2025 Marketing Strategy Tips and Tricks\n",
      "\n",
      "✅ https://www.yarnit.app/post/how-can-good-content-rank-you-higher-in-search-results\n",
      "→ How Can Good Content Rank You Higher in Search Results?\n",
      "\n",
      "✅ https://www.yarnit.app/post/how-to-make-ai-write-like-you-with-yarnit-s-brand-hub\n",
      "→ Make AI Write Like You: Using Yarnit's Brand Hub for Voice\n",
      "\n",
      "✅ https://www.yarnit.app/post/how-to-optimize-ai-content-for-seo-tips-tricks-and-best-practices\n",
      "→ How to Optimize AI Content for SEO\n",
      "\n",
      "✅ https://www.yarnit.app/post/how-to-make-your-ai-content-better-smarter-and-more-relevant\n",
      "→ Make AI Content Better: Strategies for Smart & Relevant AI\n",
      "\n",
      "✅ https://www.yarnit.app/post/how-to-generate-social-media-captions-with-ai\n",
      "→ Generate Social Media Captions with AI: Easy & Effective\n",
      "\n",
      "✅ https://www.yarnit.app/post/how-to-engage-your-customers-with-informational-and-educational-emails\n",
      "→ Engage Customers with Informational Emails: Tips & Strategies\n",
      "\n",
      "✅ https://www.yarnit.app/post/how-to-rank-on-google-ai-mode\n",
      "→ Best Strategies to Rank on Google AI Mode\n",
      "\n",
      "✅ https://www.yarnit.app/post/how-to-rank-on-perplexity-ai-the-ultimate-guide-for-digital-visibility\n",
      "→ How to Rank on Perplexity AI: Complete Optimization Guide\n",
      "\n",
      "✅ https://www.yarnit.app/post/how-to-use-ai-agents-for-content-creation\n",
      "→ 10x Your Content Production with AI Agents\n",
      "\n",
      "✅ https://www.yarnit.app/post/how-to-scale-up-content-production-with-ai-tips-tricks-and-examples\n",
      "→ How to Scale Up Content Production with AI\n",
      "\n",
      "✅ https://www.yarnit.app/post/how-to-use-yarnit-s-bulk-ad-generator-feature\n",
      "→ Use Yarnit's Bulk Ad Generator: Create Ads Efficiently\n",
      "\n",
      "✅ https://www.yarnit.app/post/how-to-use-ai-for-content-creation-best-practices-and-top-tools-for-ai-in-marketing\n",
      "→ AI Writing Tools Guide: Pick the Right One for You\n",
      "\n",
      "✅ https://www.yarnit.app/post/how-to-write-a-perfect-cold-email-your-guide-to-writing-the-perfect-pitch\n",
      "→ Write a Perfect Cold Email: Your Ultimate Pitch Guide\n",
      "\n",
      "✅ https://www.yarnit.app/post/generative-ai-should-we-be-concerned\n",
      "→ Generative AI: Should we be concerned?\n",
      "\n",
      "✅ https://www.yarnit.app/post/how-to-write-faqs-for-your-products-a-complete-guide\n",
      "→ Perfect Product FAQs: Your Guide to Better Conversions | Yarnit\n",
      "\n",
      "✅ https://www.yarnit.app/post/how-to-write-buyer-guides-for-retail\n",
      "→ A Comprehensive Guide on Writing Buyer Guides for Retail\n",
      "\n",
      "✅ https://www.yarnit.app/post/how-to-write-good-product-descriptions\n",
      "→ Step-by-Step Guide to Write Good Product Descriptions\n",
      "\n",
      "✅ https://www.yarnit.app/post/how-to-write-seo-content-with-ai\n",
      "→ Write SEO Content with AI: Boost Your Search Rankings\n",
      "\n",
      "✅ https://www.yarnit.app/post/joey-blogger-of-the-year-discover-her-journey-from-being-curious-to-discovering-storytelling\n",
      "→ \"Joey: Blogger of the Year!\"-Learn about her journey from being curious to discovering storytelling\n",
      "\n",
      "✅ https://www.yarnit.app/post/integrating-geo-and-seo-strategies\n",
      "→ How to Integrate SEO and GEO Strategies\n",
      "\n",
      "✅ https://www.yarnit.app/post/how-to-write-great-prompts-for-ai-generated-art\n",
      "→ How to Write AI Art Prompts: Guide for Beginners & Digital Artists | Yarnit\n",
      "\n",
      "✅ https://www.yarnit.app/post/how-to-write-pdps-at-scale\n",
      "→ Scale Product Descriptions That Convert: Proven E-commerce Strategies\n",
      "\n",
      "✅ https://www.yarnit.app/post/keeping-up-with-the-evolution-of-ai-art\n",
      "→ AI Art Evolution: Creative Algorithms and Marketing Revolution | Yarnit\n",
      "\n",
      "✅ https://www.yarnit.app/post/launching-a-content-campaign-for-better-seo-step-by-step-guide\n",
      "→ Launch an Effective SEO Campaign in 2025: Your Guide\n",
      "\n",
      "✅ https://www.yarnit.app/post/linkedin-content-ideas-for-personal-branding---ideas-and-prompts-guide\n",
      "→ Ideas for LinkedIn Personal Branding | Yarnit\n",
      "\n",
      "✅ https://www.yarnit.app/post/linkedin-content-strategy-for-brand-growth\n",
      "→ LinkedIn 2025: Brand Growth Strategy | Yarnit\n",
      "\n",
      "✅ https://www.yarnit.app/post/making-the-most-out-of-automation-for-social-media-marketing\n",
      "→ Social Media Marketing Automation: Making the Most Out Of It\n",
      "\n",
      "✅ https://www.yarnit.app/post/making-ai-content-for-human-audiences\n",
      "→ Making AI Content for Humans: Authenticity & Engagement\n",
      "\n",
      "✅ https://www.yarnit.app/post/linkedin-content-strategy-guide-for-marketers-2024-to-2025\n",
      "→ LinkedIn Growth Strategies for Marketers: Comprehensive Guide 2024-2025\n",
      "\n",
      "✅ https://www.yarnit.app/post/mastering-serp-analysis-with-ai-agents\n",
      "→ Mastering SERP Analysis with Agentic AI Marketing Platforms\n",
      "\n",
      "✅ https://www.yarnit.app/post/linkedin-networking-the-dos-and-don-ts\n",
      "→ LinkedIn Networking: The Dos and Don'ts\n",
      "\n",
      "✅ https://www.yarnit.app/post/mastering-the-art-of-persuasion-copywriting-frameworks-that-captivate-audiences\n",
      "→ Persuasive Copywriting: Mastering Frameworks to Captivate\n",
      "\n",
      "✅ https://www.yarnit.app/post/making-the-most-out-of-yarnit-s-content-idea-generator\n",
      "→ Making the Most out of Yarnit's AI Idea Generator\n",
      "\n",
      "✅ https://www.yarnit.app/post/mastering-the-art-of-content-ideation\n",
      "→ Mastering Content Ideation: Generate Engaging Ideas\n",
      "\n",
      "✅ https://www.yarnit.app/post/mastering-the-art-of-walmart-product-description-pages-a-step-by-step-guide\n",
      "→ Step-by-Step Guide to Write Walmart Product Description Pages\n",
      "\n",
      "✅ https://www.yarnit.app/post/meta-ads-best-practices-best-formats-placements-targeting-strategies-and-more\n",
      "→ Complete Guide to Meta Ads: Formats, Placements & Targeting Tips\n",
      "\n",
      "✅ https://www.yarnit.app/post/mastering-your-brand-voice-a-guide-to-consistent-communication\n",
      "→ Brand Voice Essentials: How to Maintain Consistent Communication\n",
      "\n",
      "✅ https://www.yarnit.app/post/meta-tag-optimization-with-ai-agents-for-better-seo\n",
      "→ Using AI Agents for Meta Tag Optimizations\n",
      "\n",
      "✅ https://www.yarnit.app/post/multichannel-marketing-a-step-by-step-guide-to-launching-successful-campaigns\n",
      "→ Master Multichannel Marketing: Campaign Success Strategies\n",
      "\n",
      "✅ https://www.yarnit.app/post/pairing-human-ingenuity-with-ai-content\n",
      "→ Human Ingenuity & AI Content: The Perfect Partnership\n",
      "\n",
      "✅ https://www.yarnit.app/post/personalized-content-what-why-and-how\n",
      "→ Personalized Content- What, Why and How?\n",
      "\n",
      "✅ https://www.yarnit.app/post/moment-marketing-made-easy-with-yarnit\n",
      "→ Moment Marketing Simplified: Turn Cultural Trends into Business Growth\n",
      "\n",
      "✅ https://www.yarnit.app/post/stuck-on-generating-content-ideas-here-s-how-to-come-up-with-ideas-every-day\n",
      "→ Stuck on generating content ideas? Here’s how to come up with ideas every day\n",
      "\n",
      "✅ https://www.yarnit.app/post/reaching-your-target-audience-with-b2b-content-a-marketers-blueprint\n",
      "→ Reaching Your Target B2B Audience: A Strategic Content Blueprint | Yarnit\n",
      "\n",
      "✅ https://www.yarnit.app/post/neuromarketing-for-b2b-using-brain-science-for-easier-decision-making\n",
      "→ Understanding Neuromarketing: How Brain Science Drives B2B Decision-Making\n",
      "\n",
      "✅ https://www.yarnit.app/post/the-ai-paradox-how-to-humanize-ai-generated-content\n",
      "→ The AI Paradox: Humanizing AI Generated Content\n",
      "\n",
      "✅ https://www.yarnit.app/post/the-best-marketing-newsletters-to-follow-in-2025\n",
      "→ Must-Follow Marketing Newsletters for Valuable Insights 2025\n",
      "\n",
      "✅ https://www.yarnit.app/post/the-ai-content-editors-handbook-identifying-and-fixing-10-telltale-patterns\n",
      "→ The Editor's Handbook to Humanizing AI Content\n",
      "\n",
      "✅ https://www.yarnit.app/post/the-7-biggest-marketing-trends-for-2025\n",
      "→ Top 7 Marketing Trends for 2025: Stay Ahead\n",
      "\n",
      "✅ https://www.yarnit.app/post/the-ai-revolution-how-social-media-guidelines-are-changing-with-genai\n",
      "→ AI Revolution: Social Media Guidelines & GenAI Impact\n",
      "\n",
      "✅ https://www.yarnit.app/post/the-hero-s-journey-3-ways-to-use-it-for-your-marketing-strategy\n",
      "→ The Hero's Journey: 3 Ways To Use It For Your Marketing Strategy\n",
      "\n",
      "✅ https://www.yarnit.app/post/the-complete-guide-to-ecommerce-seo\n",
      "→ The Complete Guide to Ecommerce SEO: Boost Visibility & Sales with AI-Powered Strategies\n",
      "\n",
      "✅ https://www.yarnit.app/post/the-complete-guide-to-content-repurposing\n",
      "→ Content Repurposing Strategy for 2025 | LinkedIn, Instagram, YouTube, and more\n",
      "\n",
      "✅ https://www.yarnit.app/post/the-ultimate-guide-to-amazon-a-content-elevate-your-product-listings\n",
      "→ Transform Amazon Listings with A+ Content: The Ultimate Guide\n",
      "\n",
      "✅ https://www.yarnit.app/post/the-complete-guide-to-b2b-thought-leadership-content\n",
      "→ B2B Thought Leadership Content: A Complete Guide | Yarnit\n",
      "\n",
      "✅ https://www.yarnit.app/post/the-ultimate-guide-to-retargeting-campaigns-converting-website-visits-to-customers\n",
      "→ The Ultimate Guide to Retargeting Campaigns\n",
      "\n",
      "✅ https://www.yarnit.app/post/the-ultimate-guide-to-native-advertising-ad-strategies-guidelines-best-practices\n",
      "→ The Ultimate Guide to Native Advertising\n",
      "\n",
      "✅ https://www.yarnit.app/post/transforming-your-shopify-pdps-the-ultimate-conversion-blueprint\n",
      "→ Transform Your Shopify PDP: 7 Proven Strategies to Double Conversions | Yarnit\n",
      "\n",
      "✅ https://www.yarnit.app/post/the-power-of-keyword-research-for-content-strategy\n",
      "→ Keyword Research Power: Fueling Your Content Strategy\n",
      "\n",
      "✅ https://www.yarnit.app/post/the-story-behind-yarnit-s-new-look\n",
      "→ The Story Behind Yarnit’s New Look\n",
      "\n",
      "✅ https://www.yarnit.app/post/the-ultimate-guide-to-building-a-b2b-content-calendar\n",
      "→ Ultimate Guide to B2B Content Calendars: Boost Your Strategy\n",
      "\n",
      "✅ https://www.yarnit.app/post/the-ultimate-guide-to-instagram-captions-in-2024-examples-templates-and-more\n",
      "→ The Ultimate Guide to Instagram Captions in 2024\n",
      "\n",
      "✅ https://www.yarnit.app/post/types-of-online-ads-and-platforms-explained\n",
      "→ Digital Advertising Strategies for Search, Display, Native and More\n",
      "\n",
      "✅ https://www.yarnit.app/post/transforming-technical-company-knowledge-into-engaging-marketing-content-with-yarnit\n",
      "→ Technical Expertise to Engaging Marketing | Yarnit\n",
      "\n",
      "✅ https://www.yarnit.app/post/unique-holiday-sale-slogans-to-attract-customers-this-christmas-season\n",
      "→ Unique Holiday Sale Slogans: Attract Christmas Shoppers\n",
      "\n",
      "✅ https://www.yarnit.app/post/user-generated-content-everything-that-you-need-to-know\n",
      "→ User-Generated Content 2025: Your Complete Guide\n",
      "\n",
      "✅ https://www.yarnit.app/post/using-retrieval-augmented-generation-rag-for-contextual-ai-content\n",
      "→ Content Enrichment Through Advanced Retrieval Methods\n",
      "\n",
      "✅ https://www.yarnit.app/post/what-are-zero-click-searches-and-how-to-optimize-for-them\n",
      "→ Top Strategies to optimise for Zero-click search\n",
      "\n",
      "✅ https://www.yarnit.app/post/why-scheduling-matters-7-crucial-insights\n",
      "→ Going Beyond Convenience: Why Scheduling Matters - 7 Crucial Insights\n",
      "\n",
      "✅ https://www.yarnit.app/post/what-b2b-products-can-learn-from-retail-product-detail-pages\n",
      "→ Key Learnings for B2Bs from Retail PDPs\n",
      "\n",
      "✅ https://www.yarnit.app/post/what-seo-marketers-need-to-know-about-google-s-ai-content-detection\n",
      "→ Google AI Content Detection: What SEO Marketers Must Know\n",
      "\n",
      "✅ https://www.yarnit.app/post/why-does-every-business-need-storytelling\n",
      "→ Why does every business need storytelling?\n",
      "\n",
      "✅ https://www.yarnit.app/post/writing-copy-that-converts-the-ultimate-guide-to-digital-ad-copy\n",
      "→ Writing Copy That Converts\n",
      "\n",
      "✅ https://www.yarnit.app/post/what-do-google-s-new-guidelines-mean-for-ai-content\n",
      "→ Google's New AI Content Guidelines: What Marketers Need\n",
      "\n",
      "✅ https://www.yarnit.app/post/what-is-agentic-ai\n",
      "→ Agentic AI: Autonomous Systems Revolutionizing Decision-Making\n",
      "\n",
      "✅ https://www.yarnit.app/post/yarnit-vs-chatgpt\n",
      "→ Yarnit vs. ChatGPT: AI for Marketing Content\n",
      "\n",
      "✅ https://www.yarnit.app/post/your-ultimate-marketing-tech-stack-for-2025\n",
      "→ Ultimate Marketing Tech Stack 2025: Essential Tools\n",
      "\n",
      "✅ https://www.yarnit.app/post/yarnit-vs-canva\n",
      "→ Yarnit vs. Canva: Choosing the Right Content Tool\n",
      "\n",
      "✅ https://www.yarnit.app/tutorials/ai-image-creation-simplified-with-yarnit-dream-brush\n",
      "→ Yarnit Dream Brush: The Ultimate AI Image Creation Tool\n",
      "\n",
      "✅ https://www.yarnit.app/tutorials/boost-organic-traffic-master-seo-with-yarnits-ai-tools\n",
      "→ Boost Organic Traffic: Master SEO with Yarnit's AI Tools\n",
      "\n",
      "✅ https://www.yarnit.app/tutorials/long-form-content-writing-with-yarnit-master-ai-powered-content-creation\n",
      "→ Yarnit Long Form Content Writing | AI Tools for Exceptional Content | Guide\n",
      "\n",
      "✅ https://www.yarnit.app/prompt-categories/ai-blog-post-generator-prompts\n",
      "→ AI Blog Post Generator Prompts| AI Prompt Library\n",
      "\n",
      "✅ https://www.yarnit.app/tutorials/how-to-master-your-brand-identity-with-yarnits-brand-hub\n",
      "→ Yarnit Brand Hub: Streamline Your Brand Management\n",
      "\n",
      "✅ https://www.yarnit.app/tutorials/accessing-ask-yarnit\n",
      "→ Ask Yarnit | AI-Powered Marketing Content Creation Platform\n",
      "\n",
      "✅ https://www.yarnit.app/tutorials/yarnit-picture-blender-blend-transform-images-with-ai-technology\n",
      "→ Yarnit Picture Blender | AI-Powered Background Replacement Tool\n",
      "\n",
      "✅ https://www.yarnit.app/tutorials/ai-powered-content-ideation-with-yarnit\n",
      "→ Boost Your Content Strategy with Yarnit AI Idea Generator\n",
      "\n",
      "✅ https://www.yarnit.app/tutorials/creating-and-managing-campaigns-in-yarnit-step-by-step-guide\n",
      "→ Yarnit Campaign Manager:AI-Powered Marketing Automation\n",
      "\n",
      "✅ https://www.yarnit.app/tutorials/crafting-high-converting-email-campaigns-with-yarnits-intelligent-platform\n",
      "→ Craft High Converting Email Copies with Yarnit's AI Platform\n",
      "\n",
      "✅ https://www.yarnit.app/tutorials/yarnit-app-center--your-all-in-one-ai-platform-for-marketing\n",
      "→ Yarnit App Center | AI-Powered Marketing Tools & Solutions\n",
      "\n",
      "✅ https://www.yarnit.app/prompt-categories/ai-blog-writing-prompts\n",
      "→ AI Blog Writing Prompts| AI Prompt Library\n",
      "\n",
      "✅ https://www.yarnit.app/prompt-categories/ai-document-generator-prompts\n",
      "→ AI Document Generator Prompts| AI Prompt Library\n",
      "\n",
      "✅ https://www.yarnit.app/prompt-categories/ai-script-generator-prompts\n",
      "→ AI Script Generator Prompts| AI Prompt Library\n",
      "\n",
      "✅ https://www.yarnit.app/prompt-categories/ai-story-writer-prompts\n",
      "→ AI Story Writer Prompts| AI Prompt Library\n",
      "\n",
      "✅ https://www.yarnit.app/prompt-categories/ai-word-generator-prompts\n",
      "→ AI Word Generator Prompts| AI Prompt Library\n",
      "\n",
      "✅ https://www.yarnit.app/prompt-categories/ai-prompts-for-better-ad-copy\n",
      "→ AI Prompts for Better Ad Copy| AI Prompt Library\n",
      "\n",
      "✅ https://www.yarnit.app/prompt-categories/analyze-and-improve-your-content-with-ai\n",
      "→ Analyze and Improve Your Content with AI| AI Prompt Library\n",
      "\n",
      "✅ https://www.yarnit.app/prompt-categories/automate-long-tail-keyword-research-with-ai\n",
      "→ Automate Long-Tail Keyword Research with AI| AI Prompt Library\n",
      "\n",
      "✅ https://www.yarnit.app/prompt-categories/ai-title-generator-prompts\n",
      "→ AI Title Generator Prompts| AI Prompt Library\n",
      "\n",
      "✅ https://www.yarnit.app/prompt-categories/automate-twitter-engagement-with-ai\n",
      "→ Automate Twitter Engagement with AI| AI Prompt Library\n",
      "\n",
      "✅ https://www.yarnit.app/prompt-categories/amazon-product-page-prompts\n",
      "→ Amazon Product Page Prompts| AI Prompt Library\n",
      "\n",
      "✅ https://www.yarnit.app/prompt-categories/automate-instagram-growth-with-ai\n",
      "→ Automate Instagram Growth with AI| AI Prompt Library\n",
      "\n",
      "✅ https://www.yarnit.app/prompt-categories/create-brand-voice-and-tone-with-ai\n",
      "→ Create Brand Voice and Tone with AI| AI Prompt Library\n",
      "\n",
      "✅ https://www.yarnit.app/prompt-categories/crafting-high-converting-sales-copy\n",
      "→ Crafting High Converting Sales Copy| AI Prompt Library\n",
      "\n",
      "✅ https://www.yarnit.app/prompt-categories/create-email-newsletters-with-ai\n",
      "→ Create Email Newsletters with AI| AI Prompt Library\n",
      "\n",
      "✅ https://www.yarnit.app/prompt-categories/become-an-ask-yarnit-expert\n",
      "→ Become an Ask Yarnit Expert| AI Prompt Library\n",
      "\n",
      "✅ https://www.yarnit.app/prompt-categories/caption-generator-for-instagram-ai-prompts\n",
      "→ Caption Generator for Instagram: AI Prompts| AI Prompt Library\n",
      "\n",
      "✅ https://www.yarnit.app/prompt-categories/content-idea-prompts-for-ai\n",
      "→ Content Idea Prompts for AI| AI Prompt Library\n",
      "\n",
      "✅ https://www.yarnit.app/prompt-categories/create-product-bundles-with-ai\n",
      "→ Create Product Bundles with AI| AI Prompt Library\n",
      "\n",
      "✅ https://www.yarnit.app/prompt-categories/craft-benefit-driven-sales-copy-with-ai\n",
      "→ Craft Benefit-Driven Sales Copy with AI| AI Prompt Library\n",
      "\n",
      "✅ https://www.yarnit.app/prompt-categories/copywriting-frameworks-prompts-for-ai\n",
      "→ Copywriting Frameworks Prompts for AI| AI Prompt Library\n",
      "\n",
      "✅ https://www.yarnit.app/prompt-categories/create-ad-variations-with-ai\n",
      "→ Create Ad Variations with AI| AI Prompt Library\n",
      "\n",
      "✅ https://www.yarnit.app/prompt-categories/create-professional-resumes-with-ai\n",
      "→ Create Professional Resumes with AI| AI Prompt Library\n",
      "\n",
      "✅ https://www.yarnit.app/prompt-categories/create-social-media-posts-with-ai\n",
      "→ Create Social Media Posts with AI| AI Prompt Library\n",
      "\n",
      "✅ https://www.yarnit.app/prompt-categories/create-sales-collaterals-with-ai\n",
      "→ Create Sales Collaterals with AI| AI Prompt Library\n",
      "\n",
      "✅ https://www.yarnit.app/prompt-categories/create-youtube-growth-strategy-with-ai\n",
      "→ Create YouTube Growth Strategy with AI| AI Prompt Library\n",
      "\n",
      "✅ https://www.yarnit.app/prompt-categories/customer-email-response-ai-prompts\n",
      "→ Customer Email Response AI Prompts| AI Prompt Library\n",
      "\n",
      "✅ https://www.yarnit.app/prompt-categories/creative-title-generator-prompts\n",
      "→ Creative Title Generator Prompts| AI Prompt Library\n",
      "\n",
      "✅ https://www.yarnit.app/prompt-categories/create-product-descriptions-with-ai\n",
      "→ Create Product Descriptions with AI| AI Prompt Library\n",
      "\n",
      "✅ https://www.yarnit.app/prompt-categories/customer-success-emails-prompts\n",
      "→ Customer Success Emails Prompts| AI Prompt Library\n",
      "\n",
      "✅ https://www.yarnit.app/prompt-categories/generate-content-ideas-with-ai\n",
      "→ Generate Content Ideas with AI| AI Prompt Library\n",
      "\n",
      "✅ https://www.yarnit.app/prompt-categories/ecommerce-product-page-prompts\n",
      "→ Ecommerce Product Page Prompts| AI Prompt Library\n",
      "\n",
      "✅ https://www.yarnit.app/prompt-categories/generate-linkedin-content-with-ai\n",
      "→ Generate LinkedIn Content with AI| AI Prompt Library\n",
      "\n",
      "✅ https://www.yarnit.app/prompt-categories/google-ad-copy-template-ai-prompts\n",
      "→ Google Ad Copy Template AI Prompts| AI Prompt Library\n",
      "\n",
      "✅ https://www.yarnit.app/prompt-categories/generate-linkedin-growth-strategy-with-ai\n",
      "→ Generate LinkedIn Growth Strategy with AI| AI Prompt Library\n",
      "\n",
      "✅ https://www.yarnit.app/prompt-categories/headline-generator-ai-prompts\n",
      "→ Headline Generator AI Prompts| AI Prompt Library\n",
      "\n",
      "✅ https://www.yarnit.app/prompt-categories/generate-product-launch-emails-with-ai\n",
      "→ Generate Product Launch Emails with AI| AI Prompt Library\n",
      "\n",
      "✅ https://www.yarnit.app/prompt-categories/generate-viral-tiktok-scripts-with-ai\n",
      "→ Generate Viral TikTok Scripts with AI| AI Prompt Library\n",
      "\n",
      "✅ https://www.yarnit.app/prompt-categories/generate-unique-selling-propositions-with-ai\n",
      "→ Generate Unique Selling Propositions with AI| AI Prompt Library\n",
      "\n",
      "✅ https://www.yarnit.app/prompt-categories/generate-interview-questions-with-ai\n",
      "→ Generate Interview Questions with AI| AI Prompt Library\n",
      "\n",
      "✅ https://www.yarnit.app/prompt-categories/humanize-ai-text\n",
      "→ Humanize AI Text| AI Prompt Library\n",
      "\n",
      "✅ https://www.yarnit.app/prompt-categories/make-email-automation-systems-with-ai\n",
      "→ Make Email Automation Systems with AI| AI Prompt Library\n",
      "\n",
      "✅ https://www.yarnit.app/prompt-categories/ideate-seo-ready-headlines-with-ai\n",
      "→ Ideate SEO-Ready Headlines with AI| AI Prompt Library\n",
      "\n",
      "✅ https://www.yarnit.app/prompt-categories/launch-campaigns-with-ai\n",
      "→ Launch Campaigns with AI| AI Prompt Library\n",
      "\n",
      "✅ https://www.yarnit.app/prompt-categories/listicle-generator-prompts\n",
      "→ Listicle Generator Prompts| AI Prompt Library\n",
      "\n",
      "✅ https://www.yarnit.app/prompt-categories/marketing-email-prompts\n",
      "→ Marketing Email Prompts| AI Prompt Library\n",
      "\n",
      "✅ https://www.yarnit.app/prompt-categories/paragraph-rewrite-ai-prompts\n",
      "→ Paragraph Rewrite AI Prompts| AI Prompt Library\n",
      "\n",
      "✅ https://www.yarnit.app/prompt-categories/make-product-testimonials-with-ai\n",
      "→ Make Product Testimonials with AI| AI Prompt Library\n",
      "\n",
      "✅ https://www.yarnit.app/prompt-categories/plan-podcast-episodes-with-ai\n",
      "→ Plan Podcast Episodes with AI| AI Prompt Library\n",
      "\n",
      "✅ https://www.yarnit.app/prompt-categories/meta-description-generator-ai-prompts\n",
      "→ Meta Description Generator: AI Prompts| AI Prompt Library\n",
      "\n",
      "✅ https://www.yarnit.app/prompt-categories/linkedin-content-prompts\n",
      "→ LinkedIn Content Prompts| AI Prompt Library\n",
      "\n",
      "✅ https://www.yarnit.app/prompt-categories/prompts-for-ai-personas\n",
      "→ Prompts for AI Personas| AI Prompt Library\n",
      "\n",
      "✅ https://www.yarnit.app/prompt-categories/product-name-generator-prompts-for-ai\n",
      "→ Product Name Generator Prompts for AI| AI Prompt Library\n",
      "\n",
      "✅ https://www.yarnit.app/prompt-categories/product-launch-email-prompts\n",
      "→ Product Launch Email Prompts| AI Prompt Library\n",
      "\n",
      "✅ https://www.yarnit.app/prompt-categories/prompts-for-better-ad-copy\n",
      "→ Prompts for Better Ad Copy| AI Prompt Library\n",
      "\n",
      "✅ https://www.yarnit.app/prompt-categories/prompts-for-creating-buyer-personas\n",
      "→ Prompts for Creating Buyer Personas| AI Prompt Library\n",
      "\n",
      "✅ https://www.yarnit.app/prompt-categories/prompts-for-conversion-optimization\n",
      "→ Prompts for Conversion Optimization| AI Prompt Library\n",
      "\n",
      "✅ https://www.yarnit.app/prompt-categories/prompts-for-cold-emails\n",
      "→ Prompts for Cold Emails| AI Prompt Library\n",
      "\n",
      "✅ https://www.yarnit.app/prompt-categories/prompts-for-customer-winning-emails\n",
      "→ Prompts for Customer-Winning Emails| AI Prompt Library\n",
      "\n",
      "✅ https://www.yarnit.app/prompt-categories/prompts-for-fresh-marketing-angles\n",
      "→ Prompts for Fresh Marketing Angles| AI Prompt Library\n",
      "\n",
      "✅ https://www.yarnit.app/prompt-categories/prompts-for-email-campaigns\n",
      "→ Prompts for Email Campaigns| AI Prompt Library\n",
      "\n",
      "✅ https://www.yarnit.app/prompt-categories/prompts-for-influencer-outreach\n",
      "→ Prompts for Influencer Outreach| AI Prompt Library\n",
      "\n",
      "✅ https://www.yarnit.app/prompt-categories/prompts-for-social-media-captions\n",
      "→ Prompts for Social Media Captions| AI Prompt Library\n",
      "\n",
      "✅ https://www.yarnit.app/prompt-categories/prompts-for-sales-emails\n",
      "→ Prompts for Sales Emails| AI Prompt Library\n",
      "\n",
      "✅ https://www.yarnit.app/prompt-categories/prompts-for-performance-reports\n",
      "→ Prompts for Performance Reports| AI Prompt Library\n",
      "\n",
      "✅ https://www.yarnit.app/prompt-categories/prompts-for-podcast-ideas\n",
      "→ Prompts for Podcast Ideas| AI Prompt Library\n",
      "\n",
      "✅ https://www.yarnit.app/prompt-categories/prompts-for-pr-outreach\n",
      "→ Prompts for PR Outreach| AI Prompt Library\n",
      "\n",
      "✅ https://www.yarnit.app/prompt-categories/prompts-for-product-reviews\n",
      "→ Prompts for Product Reviews| AI Prompt Library\n",
      "\n",
      "✅ https://www.yarnit.app/prompt-categories/prompts-for-social-media-content\n",
      "→ Prompts for Social Media Content| AI Prompt Library\n",
      "\n",
      "✅ https://www.yarnit.app/prompt-categories/prompts-for-landing-page-headline\n",
      "→ Prompts for Landing Page Headline| AI Prompt Library\n",
      "\n",
      "✅ https://www.yarnit.app/prompt-categories/prompts-for-sales-outreach\n",
      "→ Prompts for Sales Outreach| AI Prompt Library\n",
      "\n",
      "✅ https://www.yarnit.app/prompt-categories/research-trending-topics-with-ai\n",
      "→ Research Trending Topics with AI| AI Prompt Library\n",
      "\n",
      "✅ https://www.yarnit.app/prompt-categories/rewrite-content-with-ai\n",
      "→ Rewrite Content with AI| AI Prompt Library\n",
      "\n",
      "✅ https://www.yarnit.app/prompt-categories/rewrite-sentences-prompts-for-ai\n",
      "→ Rewrite Sentences: Prompts for AI| AI Prompt Library\n",
      "\n",
      "✅ https://www.yarnit.app/prompt-categories/rewrite-this-sentence-with-ai-prompts\n",
      "→ Rewrite This Sentence with AI Prompts| AI Prompt Library\n",
      "\n",
      "✅ https://www.yarnit.app/prompt-categories/write-better-ctas-with-ai\n",
      "→ Write Better CTAs with AI| AI Prompt Library\n",
      "\n",
      "✅ https://www.yarnit.app/prompt-categories/summarize-content-with-ai\n",
      "→ Summarize Content with AI| AI Prompt Library\n",
      "\n",
      "✅ https://www.yarnit.app/prompt-categories/refresh-your-content-with-ai\n",
      "→ Refresh Your Content with AI| AI Prompt Library\n",
      "\n",
      "✅ https://www.yarnit.app/prompt-categories/research-buyer-personas-with-ai\n",
      "→ Research Buyer Personas with AI| AI Prompt Library\n",
      "\n",
      "✅ https://www.yarnit.app/prompt-categories/prompts-for-website-landing-pages\n",
      "→ Prompts for Website Landing Pages| AI Prompt Library\n",
      "\n",
      "✅ https://www.yarnit.app/prompt-categories/prompts-to-create-sales-offers\n",
      "→ Prompts to Create Sales Offers| AI Prompt Library\n",
      "\n",
      "✅ https://www.yarnit.app/prompt-categories/write-case-studies-with-ai\n",
      "→ Write Case Studies with AI| AI Prompt Library\n",
      "\n",
      "✅ https://www.yarnit.app/prompt-categories/write-better-with-ai\n",
      "→ Write Better with AI| AI Prompt Library\n",
      "\n",
      "✅ https://www.yarnit.app/prompt-categories/youtube-title-generator-prompts\n",
      "→ YouTube Title Generator Prompts| AI Prompt Library\n",
      "\n"
     ]
    }
   ],
   "source": [
    "for page in site_content_index:\n",
    "    print(f\"✅ {page['url']}\\n→ {page['title']}\\n\")\n"
   ]
  },
  {
   "cell_type": "markdown",
   "id": "3093dcdf",
   "metadata": {},
   "source": [
    "Save as CSV"
   ]
  },
  {
   "cell_type": "code",
   "execution_count": 46,
   "id": "80164e24",
   "metadata": {},
   "outputs": [
    {
     "name": "stdout",
     "output_type": "stream",
     "text": [
      "✅ Detailed CSV saved as 'site_content_index.csv'\n"
     ]
    }
   ],
   "source": [
    "import csv\n",
    "import json\n",
    "\n",
    "with open(\"site_content_index.csv\", \"w\", newline=\"\", encoding=\"utf-8\") as f:\n",
    "    writer = csv.DictWriter(f, fieldnames=[\"url\", \"title\", \"meta_description\", \"h1\", \"h2\", \"h3\"])\n",
    "    writer.writeheader()\n",
    "    for page in site_content_index: # type: ignore\n",
    "        writer.writerow({\n",
    "            \"url\": page[\"url\"],\n",
    "            \"title\": page[\"title\"],\n",
    "            \"meta_description\": page.get(\"meta_description\", \"\"),\n",
    "            \"h1\": json.dumps(page.get(\"h1\", []), ensure_ascii=False),\n",
    "            \"h2\": json.dumps(page.get(\"h2\", []), ensure_ascii=False),\n",
    "            \"h3\": json.dumps(page.get(\"h3\", []), ensure_ascii=False)\n",
    "        })\n",
    "\n",
    "print(\"✅ Detailed CSV saved as 'site_content_index.csv'\")"
   ]
  },
  {
   "cell_type": "markdown",
   "id": "ee9ca50b",
   "metadata": {},
   "source": [
    "Save as JSON"
   ]
  },
  {
   "cell_type": "code",
   "execution_count": 47,
   "id": "58d63126",
   "metadata": {},
   "outputs": [
    {
     "name": "stdout",
     "output_type": "stream",
     "text": [
      "✅ Detailed JSON saved as 'site_content_index.json'\n"
     ]
    }
   ],
   "source": [
    "import json\n",
    "\n",
    "with open(\"site_content_index.json\", \"w\", encoding=\"utf-8\") as f:\n",
    "    json.dump(site_content_index, f, indent=4, ensure_ascii=False) # type: ignore\n",
    "\n",
    "print(\"✅ Detailed JSON saved as 'site_content_index.json'\")\n"
   ]
  },
  {
   "cell_type": "markdown",
   "id": "5a01d71f",
   "metadata": {},
   "source": [
    "Step 4: Analyze the New Article"
   ]
  },
  {
   "cell_type": "markdown",
   "id": "9c4136d7",
   "metadata": {},
   "source": [
    "Load the Article"
   ]
  },
  {
   "cell_type": "code",
   "execution_count": 48,
   "id": "57b89e22",
   "metadata": {},
   "outputs": [
    {
     "name": "stdout",
     "output_type": "stream",
     "text": [
      "The Role of AI in Modern Content Marketing\n",
      "In today’s rapidly evolving digital landscape, content marketing stands as a cornerstone for businesses aiming to connect with audiences, establish authority, and fuel growth. The transformative power of Artificial Intelligence (AI) has dramatically reshaped this domain. No longer a futuristic concept, AI is now intrinsically woven into the fabric of how content is conceived, crafted, optimized, distributed, and analyzed. By strategically integrating AI\n"
     ]
    }
   ],
   "source": [
    "from docx import Document\n",
    "\n",
    "def load_docx_text(file_path):\n",
    "    doc = Document(file_path)\n",
    "    return \"\\n\".join([para.text for para in doc.paragraphs if para.text.strip()])\n",
    "\n",
    "article_text = load_docx_text(\"The Role of AI in Modern Content Marketing.docx\")\n",
    "print(article_text[:500])  # Preview first 500 chars\n"
   ]
  },
  {
   "cell_type": "markdown",
   "id": "d21e20d0",
   "metadata": {},
   "source": [
    "Keyword Density (Unigram Frequency)"
   ]
  },
  {
   "cell_type": "code",
   "execution_count": 49,
   "id": "19542f61",
   "metadata": {},
   "outputs": [
    {
     "name": "stdout",
     "output_type": "stream",
     "text": [
      "[('and', 40), ('content', 33), ('ai', 24), ('of', 18), ('the', 17), ('to', 17), ('in', 11), ('a', 10), ('marketing', 9), ('for', 9), ('with', 8), ('can', 8), ('s', 7), ('this', 7), ('is', 7), ('on', 7), ('engagement', 6), ('its', 6), ('an', 6), ('marketers', 5)]\n"
     ]
    }
   ],
   "source": [
    "from collections import Counter\n",
    "import re\n",
    "\n",
    "def get_word_freq(text):\n",
    "    words = re.findall(r'\\b\\w+\\b', text.lower())\n",
    "    return Counter(words)\n",
    "\n",
    "word_freq = get_word_freq(article_text)\n",
    "print(word_freq.most_common(20))  \n"
   ]
  },
  {
   "cell_type": "markdown",
   "id": "0dacbd99",
   "metadata": {},
   "source": [
    "Bigram & Trigram Extraction"
   ]
  },
  {
   "cell_type": "code",
   "execution_count": 50,
   "id": "e3b1a2d5",
   "metadata": {},
   "outputs": [
    {
     "name": "stdout",
     "output_type": "stream",
     "text": [
      "🔹 Top 10 Bigrams: [((',', 'and'), 20), (('content', 'marketing'), 8), (('.', 'this'), 5), (('of', 'ai'), 4), (('’', 's'), 4), ((',', 'ai'), 4), (('their', 'content'), 3), (('.', 'ai'), 3), (('in', 'content'), 3), (('marketing', 'is'), 3)]\n",
      "🔹 Top 10 Trigrams: [(('content', 'marketing', 'is'), 3), ((',', 'and', 'even'), 3), (('no', 'longer', 'a'), 2), (('their', 'content', 'strategies'), 2), (('and', 'impact', '.'), 2), (('the', 'role', 'of'), 1), (('role', 'of', 'ai'), 1), (('of', 'ai', 'in'), 1), (('ai', 'in', 'modern'), 1), (('in', 'modern', 'content'), 1)]\n"
     ]
    },
    {
     "name": "stderr",
     "output_type": "stream",
     "text": [
      "[nltk_data] Downloading package punkt to C:\\Users\\Lohith\n",
      "[nltk_data]     Kumar\\AppData\\Roaming\\nltk_data...\n",
      "[nltk_data]   Package punkt is already up-to-date!\n"
     ]
    }
   ],
   "source": [
    "from nltk.util import ngrams\n",
    "from nltk.tokenize import word_tokenize\n",
    "import nltk\n",
    "\n",
    "nltk.download('punkt')\n",
    "\n",
    "tokens = word_tokenize(article_text.lower())\n",
    "\n",
    "bigrams = list(ngrams(tokens, 2))\n",
    "trigrams = list(ngrams(tokens, 3))\n",
    "\n",
    "bigram_freq = Counter(bigrams)\n",
    "trigram_freq = Counter(trigrams)\n",
    "\n",
    "print(\"🔹 Top 10 Bigrams:\", bigram_freq.most_common(10))\n",
    "print(\"🔹 Top 10 Trigrams:\", trigram_freq.most_common(10))\n"
   ]
  },
  {
   "cell_type": "markdown",
   "id": "93278a61",
   "metadata": {},
   "source": [
    "Noun Phrase Extraction (Keyphrases/Anchor Candidates)"
   ]
  },
  {
   "cell_type": "code",
   "execution_count": 51,
   "id": "9dc418ba",
   "metadata": {},
   "outputs": [
    {
     "name": "stdout",
     "output_type": "stream",
     "text": [
      "🔑 Top 15 Anchor Phrase Candidates:\n",
      "Content — score: 0.0098\n",
      "Content Marketing — score: 0.0142\n",
      "Marketing — score: 0.0363\n",
      "Modern Content Marketing — score: 0.0627\n",
      "engagement — score: 0.0719\n",
      "content marketing stands — score: 0.0793\n",
      "Artificial Intelligence — score: 0.0800\n",
      "Search — score: 0.0970\n",
      "marketers — score: 0.0971\n",
      "content strategies — score: 0.1006\n",
      "Augmenting Human Creativity — score: 0.1094\n",
      "Human Creativity — score: 0.1179\n",
      "Google — score: 0.1183\n",
      "insights — score: 0.1199\n",
      "Content Performance Analysis — score: 0.1237\n"
     ]
    }
   ],
   "source": [
    "import yake\n",
    "\n",
    "# Define the text (your article must be loaded in `article_text`)\n",
    "kw_extractor = yake.KeywordExtractor(lan=\"en\", n=3, top=15, dedupLim=0.9)\n",
    "keywords = kw_extractor.extract_keywords(article_text)\n",
    "\n",
    "# Display top 15 keyword phrases\n",
    "print(\"🔑 Top 15 Anchor Phrase Candidates:\")\n",
    "for kw, score in keywords:\n",
    "    print(f\"{kw} — score: {score:.4f}\")\n"
   ]
  },
  {
   "cell_type": "markdown",
   "id": "0d1e156f",
   "metadata": {},
   "source": [
    "Sentence-Level Matching"
   ]
  },
  {
   "cell_type": "code",
   "execution_count": 52,
   "id": "1c5f2ae6",
   "metadata": {},
   "outputs": [
    {
     "name": "stdout",
     "output_type": "stream",
     "text": [
      "\n",
      "🔍 Top Semantic Matches:\n",
      "Social Media Marketing Automation: Making the Most Out Of It — Score: 0.5595\n",
      "AI Social Media Marketing Tools | Content Creation | Yarnit — Score: 0.4713\n",
      "Prompts for Social Media Content| AI Prompt Library — Score: 0.4348\n"
     ]
    }
   ],
   "source": [
    "from sentence_transformers import SentenceTransformer, util\n",
    "\n",
    "# Load pre-trained sentence transformer\n",
    "model = SentenceTransformer('all-MiniLM-L6-v2')\n",
    "\n",
    "# Example sentence and candidate titles (from site index)\n",
    "sentence = \"advanced social media management techniques\"\n",
    "candidates = [page[\"title\"] for page in site_index]\n",
    "\n",
    "# Encode input and candidates\n",
    "emb1 = model.encode(sentence, convert_to_tensor=True)\n",
    "emb2 = model.encode(candidates, convert_to_tensor=True)\n",
    "\n",
    "# Compute cosine similarity\n",
    "scores = util.pytorch_cos_sim(emb1, emb2)\n",
    "\n",
    "# Get top matches\n",
    "top_k = 3\n",
    "top_indices = scores[0].argsort(descending=True)[:top_k]\n",
    "\n",
    "print(\"\\n🔍 Top Semantic Matches:\")\n",
    "for idx in top_indices:\n",
    "    title = candidates[idx]\n",
    "    score = scores[0][idx].item()\n",
    "    print(f\"{title} — Score: {score:.4f}\")\n"
   ]
  },
  {
   "cell_type": "markdown",
   "id": "305fcbb2",
   "metadata": {},
   "source": [
    "NLP-Based Anchor Enhancement Suggestions"
   ]
  },
  {
   "cell_type": "code",
   "execution_count": 53,
   "id": "c48ec020",
   "metadata": {},
   "outputs": [
    {
     "name": "stdout",
     "output_type": "stream",
     "text": [
      "['The Role', 'AI', 'Modern Content Marketing', 'today', 'digital landscape', 'content marketing', 'a cornerstone', 'businesses', 'audiences', 'authority']\n"
     ]
    }
   ],
   "source": [
    "import spacy\n",
    "\n",
    "nlp = spacy.load(\"en_core_web_sm\")\n",
    "doc = nlp(article_text)\n",
    "\n",
    "noun_phrases = [chunk.text for chunk in doc.noun_chunks]\n",
    "\n",
    "print(noun_phrases[:10])  # Show top 10 phrases\n"
   ]
  },
  {
   "cell_type": "markdown",
   "id": "6a4021e7",
   "metadata": {},
   "source": [
    "Keyword Density Analysis (Meta, Headings, Body)"
   ]
  },
  {
   "cell_type": "code",
   "execution_count": 54,
   "id": "52266918",
   "metadata": {},
   "outputs": [
    {
     "name": "stdout",
     "output_type": "stream",
     "text": [
      "📊 Keyword Density Across Sections:\n",
      "\n",
      "Keyword Phrase                              Meta%      H1%      H2%    Body%\n",
      "content                                      0.00     3.19     2.78     3.94\n",
      "content marketing                            0.00     5.10     4.07     5.01\n",
      "marketing                                    0.00     1.91     1.29     1.07\n",
      "modern content marketing                     0.00     5.14     4.09     5.25\n",
      "engagement                                   0.00     0.13     0.36     0.72\n",
      "content marketing stands                     0.00     5.10     4.09     5.13\n",
      "artificial intelligence                      0.00     0.00     0.11     0.24\n",
      "search                                       0.00     0.13     0.29     0.48\n",
      "marketers                                    0.00     0.18     0.09     0.60\n",
      "content strategies                           0.00     3.63     2.95     4.30\n",
      "augmenting human creativity                  0.00     0.13     0.17     0.84\n",
      "human creativity                             0.00     0.13     0.17     0.72\n",
      "google                                       0.00     0.18     0.12     0.36\n",
      "insights                                     0.00     0.09     0.12     0.48\n",
      "content performance analysis                 0.00     3.46     3.30     4.65\n"
     ]
    }
   ],
   "source": [
    "import json\n",
    "import re\n",
    "from collections import Counter\n",
    "from docx import Document\n",
    "import yake\n",
    "\n",
    "# 1. Load article\n",
    "doc = Document(\"The Role of AI in Modern Content Marketing.docx\")\n",
    "article_text = \"\\n\".join([p.text for p in doc.paragraphs if p.text.strip()])\n",
    "\n",
    "# 2. Load site index\n",
    "with open(\"site_content_index.json\", \"r\", encoding=\"utf-8\") as f:\n",
    "    site_index = json.load(f)\n",
    "\n",
    "# 3. Tokenizer\n",
    "def tokenize(text):\n",
    "    return re.findall(r'\\b\\w+\\b', text.lower())\n",
    "\n",
    "# 4. Extract text from each section\n",
    "meta_text = \" \".join([page.get(\"meta\", \"\") for page in site_index])\n",
    "h1_text = \" \".join([\" \".join(page.get(\"h1\", [])) for page in site_index])\n",
    "h2_text = \" \".join([\" \".join(page.get(\"h2\", [])) for page in site_index])\n",
    "body_text = article_text\n",
    "\n",
    "# 5. Tokenize & Count\n",
    "meta_tokens = tokenize(meta_text)\n",
    "h1_tokens = tokenize(h1_text)\n",
    "h2_tokens = tokenize(h2_text)\n",
    "body_tokens = tokenize(body_text)\n",
    "\n",
    "meta_count = Counter(meta_tokens)\n",
    "h1_count = Counter(h1_tokens)\n",
    "h2_count = Counter(h2_tokens)\n",
    "body_count = Counter(body_tokens)\n",
    "\n",
    "meta_total = len(meta_tokens)\n",
    "h1_total = len(h1_tokens)\n",
    "h2_total = len(h2_tokens)\n",
    "body_total = len(body_tokens)\n",
    "\n",
    "# 6. Extract keywords using YAKE\n",
    "kw_extractor = yake.KeywordExtractor(lan=\"en\", n=3, top=15, dedupLim=0.9)\n",
    "keywords = kw_extractor.extract_keywords(article_text)\n",
    "anchor_phrases = [kw.lower() for kw, _ in keywords]\n",
    "\n",
    "# 7. Density Calculation Function\n",
    "def phrase_count(counter, tokens):\n",
    "    return sum(counter.get(tok, 0) for tok in tokens)\n",
    "\n",
    "# 8. Print Table\n",
    "print(\"📊 Keyword Density Across Sections:\\n\")\n",
    "print(\"{:<40} {:>8} {:>8} {:>8} {:>8}\".format(\"Keyword Phrase\", \"Meta%\", \"H1%\", \"H2%\", \"Body%\"))\n",
    "\n",
    "for phrase in anchor_phrases:\n",
    "    phrase_tokens = tokenize(phrase)\n",
    "\n",
    "    meta_density = (phrase_count(meta_count, phrase_tokens) / meta_total * 100) if meta_total else 0\n",
    "    h1_density = (phrase_count(h1_count, phrase_tokens) / h1_total * 100) if h1_total else 0\n",
    "    h2_density = (phrase_count(h2_count, phrase_tokens) / h2_total * 100) if h2_total else 0\n",
    "    body_density = (phrase_count(body_count, phrase_tokens) / body_total * 100) if body_total else 0\n",
    "\n",
    "    print(\"{:<40} {:>8.2f} {:>8.2f} {:>8.2f} {:>8.2f}\".format(\n",
    "        phrase, meta_density, h1_density, h2_density, body_density\n",
    "    ))\n"
   ]
  },
  {
   "cell_type": "markdown",
   "id": "d37df394",
   "metadata": {},
   "source": [
    "Visualize density"
   ]
  },
  {
   "cell_type": "code",
   "execution_count": 55,
   "id": "e669007c",
   "metadata": {},
   "outputs": [
    {
     "data": {
      "image/png": "[encoded data removed]",
      "text/plain": [
       "<Figure size 1200x600 with 1 Axes>"
      ]
     },
     "metadata": {},
     "output_type": "display_data"
    }
   ],
   "source": [
    "import pandas as pd\n",
    "import matplotlib.pyplot as plt\n",
    "import seaborn as sns\n",
    "\n",
    "# 1. Create DataFrame to hold density values\n",
    "density_data = []\n",
    "\n",
    "for phrase in anchor_phrases:\n",
    "    phrase_tokens = tokenize(phrase)\n",
    "\n",
    "    meta_density = (phrase_count(meta_count, phrase_tokens) / meta_total * 100) if meta_total else 0\n",
    "    h1_density = (phrase_count(h1_count, phrase_tokens) / h1_total * 100) if h1_total else 0\n",
    "    h2_density = (phrase_count(h2_count, phrase_tokens) / h2_total * 100) if h2_total else 0\n",
    "    body_density = (phrase_count(body_count, phrase_tokens) / body_total * 100) if body_total else 0\n",
    "\n",
    "    density_data.append({\n",
    "        \"Keyword\": phrase,\n",
    "        \"Meta\": meta_density,\n",
    "        \"H1\": h1_density,\n",
    "        \"H2\": h2_density,\n",
    "        \"Body\": body_density\n",
    "    })\n",
    "\n",
    "df_density = pd.DataFrame(density_data)\n",
    "\n",
    "# 2. Reshape for Seaborn (melt format)\n",
    "df_melted = df_density.melt(id_vars=\"Keyword\", var_name=\"Section\", value_name=\"Density (%)\")\n",
    "\n",
    "# 3. Plot\n",
    "plt.figure(figsize=(12, 6))\n",
    "sns.barplot(data=df_melted, x=\"Keyword\", y=\"Density (%)\", hue=\"Section\")\n",
    "\n",
    "plt.xticks(rotation=45, ha=\"right\")\n",
    "plt.title(\"Keyword Density Across Sections\")\n",
    "plt.tight_layout()\n",
    "plt.show()\n"
   ]
  },
  {
   "cell_type": "markdown",
   "id": "756a2d2b",
   "metadata": {},
   "source": [
    "The Matching Engine - Finding Opportunities"
   ]
  },
  {
   "cell_type": "markdown",
   "id": "9eeea4ed",
   "metadata": {},
   "source": [
    "Load Required Data"
   ]
  },
  {
   "cell_type": "code",
   "execution_count": 56,
   "id": "b13d3634",
   "metadata": {},
   "outputs": [],
   "source": [
    "import json\n",
    "\n",
    "# Load anchor phrases (from Step 4 with YAKE or any extractor)\n",
    "anchor_phrases = [kw for kw, _ in keywords]  # already extracted from article_text\n",
    "\n",
    "# Load site content index (from site_content_index.json)\n",
    "with open(\"site_content_index.json\", \"r\", encoding=\"utf-8\") as f:\n",
    "    site_index = json.load(f)\n"
   ]
  },
  {
   "cell_type": "markdown",
   "id": "6928b3db",
   "metadata": {},
   "source": [
    "Define the Matching Engine"
   ]
  },
  {
   "cell_type": "code",
   "execution_count": 57,
   "id": "6d117aa6",
   "metadata": {},
   "outputs": [],
   "source": [
    "def direct_match_engine(anchor_phrases, site_index):\n",
    "    matches = []\n",
    "\n",
    "    for phrase in anchor_phrases:\n",
    "        for page in site_index:\n",
    "            score = 0\n",
    "            match_type = \"\"\n",
    "\n",
    "            # Normalize all text for comparison\n",
    "            phrase_lower = phrase.lower()\n",
    "            title = page[\"title\"].lower()\n",
    "            h1 = \" \".join(page.get(\"h1\", [])).lower()\n",
    "            h2 = \" \".join(page.get(\"h2\", [])).lower()\n",
    "\n",
    "            # Check for direct matches\n",
    "            if phrase_lower in title:\n",
    "                score = 3\n",
    "                match_type = \"Title Match\"\n",
    "            elif phrase_lower in h1:\n",
    "                score = 2\n",
    "                match_type = \"H1 Match\"\n",
    "            elif phrase_lower in h2:\n",
    "                score = 1\n",
    "                match_type = \"H2 Match\"\n",
    "\n",
    "            if score > 0:\n",
    "                matches.append({\n",
    "                    \"anchor_phrase\": phrase,\n",
    "                    \"matched_url\": page[\"url\"],\n",
    "                    \"match_type\": match_type,\n",
    "                    \"score\": score\n",
    "                })\n",
    "\n",
    "    return sorted(matches, key=lambda x: x[\"score\"], reverse=True)\n"
   ]
  },
  {
   "cell_type": "markdown",
   "id": "4f05c180",
   "metadata": {},
   "source": [
    "Run the Engine and View Matches"
   ]
  },
  {
   "cell_type": "code",
   "execution_count": 58,
   "id": "2f8f7eb1",
   "metadata": {},
   "outputs": [
    {
     "name": "stdout",
     "output_type": "stream",
     "text": [
      "🔗 Content → https://www.yarnit.app/contextual-intelligence\n",
      "   Type: Title Match | Score: 3\n",
      "🔗 Content → https://www.yarnit.app/security\n",
      "   Type: Title Match | Score: 3\n",
      "🔗 Content → https://www.yarnit.app/manufacturing\n",
      "   Type: Title Match | Score: 3\n",
      "🔗 Content → https://www.yarnit.app/healthcare\n",
      "   Type: Title Match | Score: 3\n",
      "🔗 Content → https://www.yarnit.app/responsible-ai\n",
      "   Type: Title Match | Score: 3\n",
      "🔗 Content → https://www.yarnit.app/ai-writing\n",
      "   Type: Title Match | Score: 3\n",
      "🔗 Content → https://www.yarnit.app/blog\n",
      "   Type: Title Match | Score: 3\n",
      "🔗 Content → https://www.yarnit.app/technology\n",
      "   Type: Title Match | Score: 3\n",
      "🔗 Content → https://www.yarnit.app/content-marketing-with-ai\n",
      "   Type: Title Match | Score: 3\n",
      "🔗 Content → https://www.yarnit.app/media-and-publishing\n",
      "   Type: Title Match | Score: 3\n"
     ]
    }
   ],
   "source": [
    "matches = direct_match_engine(anchor_phrases, site_index)\n",
    "\n",
    "for match in matches[:10]:  # top 10\n",
    "    print(f\"🔗 {match['anchor_phrase']} → {match['matched_url']}\")\n",
    "    print(f\"   Type: {match['match_type']} | Score: {match['score']}\")\n"
   ]
  },
  {
   "cell_type": "markdown",
   "id": "d8364ae1",
   "metadata": {},
   "source": [
    "Step 6 & 7: Interactive Link Insertion and HTML Export"
   ]
  },
  {
   "cell_type": "code",
   "execution_count": 59,
   "id": "8428db92",
   "metadata": {},
   "outputs": [
    {
     "name": "stdout",
     "output_type": "stream",
     "text": [
      "The Role of AI in Modern Content Marketing\n",
      "In today’s rapidly evolving digital landscape, content marketing stands as a cornerstone for businesses aiming to connect with audiences, establish authority, and fuel growth. The transformative power of Artificial Intelligence (AI) has dramatically reshaped this domain. No longer a futuristic concept, AI is now intrinsically woven into the fabric of how content is conceived, crafted, optimized, distributed, and analyzed. By strategically integrating AI\n"
     ]
    }
   ],
   "source": [
    "from docx import Document\n",
    "\n",
    "def load_docx_text(file_path):\n",
    "    doc = Document(file_path)\n",
    "    return \"\\n\".join([p.text for p in doc.paragraphs if p.text.strip()])\n",
    "\n",
    "article_text = load_docx_text(\"The Role of AI in Modern Content Marketing.docx\")\n",
    "print(article_text[:500])\n"
   ]
  },
  {
   "cell_type": "code",
   "execution_count": 60,
   "id": "d0dd93db",
   "metadata": {},
   "outputs": [
    {
     "name": "stdout",
     "output_type": "stream",
     "text": [
      "Content\n",
      "Content Marketing\n",
      "Marketing\n",
      "Modern Content Marketing\n",
      "engagement\n",
      "content marketing stands\n",
      "Artificial Intelligence\n",
      "Search\n",
      "marketers\n",
      "content strategies\n",
      "Augmenting Human Creativity\n",
      "Human Creativity\n",
      "Google\n",
      "insights\n",
      "Content Performance Analysis\n"
     ]
    }
   ],
   "source": [
    "import yake\n",
    "\n",
    "kw_extractor = yake.KeywordExtractor(lan=\"en\", n=3, top=15, dedupLim=0.9)\n",
    "keywords = kw_extractor.extract_keywords(article_text)\n",
    "\n",
    "anchor_phrases = [kw for kw, _ in keywords]\n",
    "\n",
    "for kw in anchor_phrases:\n",
    "    print(kw)\n"
   ]
  },
  {
   "cell_type": "code",
   "execution_count": 61,
   "id": "3fe5e748",
   "metadata": {},
   "outputs": [],
   "source": [
    "import json\n",
    "\n",
    "with open(\"site_content_index.json\", \"r\", encoding=\"utf-8\") as f:\n",
    "    site_index = json.load(f)\n"
   ]
  },
  {
   "cell_type": "code",
   "execution_count": 62,
   "id": "f1fefe01",
   "metadata": {},
   "outputs": [],
   "source": [
    "from difflib import get_close_matches\n",
    "\n",
    "def find_matches(phrase):\n",
    "    options = []\n",
    "    for page in site_index:\n",
    "        if phrase.lower() in page[\"title\"].lower():\n",
    "            options.append((page[\"title\"], page[\"url\"]))\n",
    "        elif any(phrase.lower() in h.lower() for h in page.get(\"h1\", [])):\n",
    "            options.append((page[\"title\"], page[\"url\"]))\n",
    "    if not options:\n",
    "        for page in site_index:\n",
    "            if get_close_matches(phrase.lower(), [page[\"title\"].lower()]):\n",
    "                options.append((page[\"title\"], page[\"url\"]))\n",
    "    return options[:3]\n"
   ]
  },
  {
   "cell_type": "code",
   "execution_count": 63,
   "id": "1072edc4",
   "metadata": {},
   "outputs": [
    {
     "name": "stdout",
     "output_type": "stream",
     "text": [
      "Review and select links for each anchor phrase:\n",
      "\n",
      "🔗 Anchor Phrase: 'Content'\n"
     ]
    },
    {
     "data": {
      "application/vnd.jupyter.widget-view+json": {
       "model_id": "5225ccbf320f40d0a1e841d4536aea33",
       "version_major": 2,
       "version_minor": 0
      },
      "text/plain": [
       "Dropdown(description='Content', layout=Layout(width='auto'), options=('Reject', 'AI-Powered Contextual Intelli…"
      ]
     },
     "metadata": {},
     "output_type": "display_data"
    },
    {
     "name": "stdout",
     "output_type": "stream",
     "text": [
      "\n",
      "🔗 Anchor Phrase: 'Content Marketing'\n"
     ]
    },
    {
     "data": {
      "application/vnd.jupyter.widget-view+json": {
       "model_id": "cba9af6aec854908b35a7ea748867f4d",
       "version_major": 2,
       "version_minor": 0
      },
      "text/plain": [
       "Dropdown(description='Content Marketing', layout=Layout(width='auto'), options=('Reject', 'AI-Powered Content …"
      ]
     },
     "metadata": {},
     "output_type": "display_data"
    },
    {
     "name": "stdout",
     "output_type": "stream",
     "text": [
      "\n",
      "🔗 Anchor Phrase: 'Marketing'\n"
     ]
    },
    {
     "data": {
      "application/vnd.jupyter.widget-view+json": {
       "model_id": "2ed55fc0d8e64c7dbc61d289adf6dd92",
       "version_major": 2,
       "version_minor": 0
      },
      "text/plain": [
       "Dropdown(description='Marketing', layout=Layout(width='auto'), options=('Reject', 'AI-Powered Contextual Intel…"
      ]
     },
     "metadata": {},
     "output_type": "display_data"
    },
    {
     "name": "stdout",
     "output_type": "stream",
     "text": [
      "\n",
      "🔗 Anchor Phrase: 'Modern Content Marketing'\n",
      "No match found.\n",
      "\n",
      "🔗 Anchor Phrase: 'engagement'\n"
     ]
    },
    {
     "data": {
      "application/vnd.jupyter.widget-view+json": {
       "model_id": "13d5281807f6425983fad4b3804058ae",
       "version_major": 2,
       "version_minor": 0
      },
      "text/plain": [
       "Dropdown(description='engagement', layout=Layout(width='auto'), options=('Reject', '10 Strategies to Boost Ins…"
      ]
     },
     "metadata": {},
     "output_type": "display_data"
    },
    {
     "name": "stdout",
     "output_type": "stream",
     "text": [
      "\n",
      "🔗 Anchor Phrase: 'content marketing stands'\n"
     ]
    },
    {
     "data": {
      "application/vnd.jupyter.widget-view+json": {
       "model_id": "64678a953564446f849b1f43861325b2",
       "version_major": 2,
       "version_minor": 0
      },
      "text/plain": [
       "Dropdown(description='content marketing st', layout=Layout(width='auto'), options=('Reject', 'AI-Powered Conte…"
      ]
     },
     "metadata": {},
     "output_type": "display_data"
    },
    {
     "name": "stdout",
     "output_type": "stream",
     "text": [
      "\n",
      "🔗 Anchor Phrase: 'Artificial Intelligence'\n",
      "No match found.\n",
      "\n",
      "🔗 Anchor Phrase: 'Search'\n"
     ]
    },
    {
     "data": {
      "application/vnd.jupyter.widget-view+json": {
       "model_id": "4f268a3f36004e108aa180c4cd46852e",
       "version_major": 2,
       "version_minor": 0
      },
      "text/plain": [
       "Dropdown(description='Search', layout=Layout(width='auto'), options=('Reject', 'Search Results (https://www.ya…"
      ]
     },
     "metadata": {},
     "output_type": "display_data"
    },
    {
     "name": "stdout",
     "output_type": "stream",
     "text": [
      "\n",
      "🔗 Anchor Phrase: 'marketers'\n"
     ]
    },
    {
     "data": {
      "application/vnd.jupyter.widget-view+json": {
       "model_id": "30e469bdbb0d4bca849b5cad49fc0218",
       "version_major": 2,
       "version_minor": 0
      },
      "text/plain": [
       "Dropdown(description='marketers', layout=Layout(width='auto'), options=('Reject', '7 Must-Have AI-Powered Prod…"
      ]
     },
     "metadata": {},
     "output_type": "display_data"
    },
    {
     "name": "stdout",
     "output_type": "stream",
     "text": [
      "\n",
      "🔗 Anchor Phrase: 'content strategies'\n"
     ]
    },
    {
     "data": {
      "application/vnd.jupyter.widget-view+json": {
       "model_id": "b0aa12bb924e4a98b41bc03253799bff",
       "version_major": 2,
       "version_minor": 0
      },
      "text/plain": [
       "Dropdown(description='content strategies', layout=Layout(width='auto'), options=('Reject', '10 AI-Powered Cont…"
      ]
     },
     "metadata": {},
     "output_type": "display_data"
    },
    {
     "name": "stdout",
     "output_type": "stream",
     "text": [
      "\n",
      "🔗 Anchor Phrase: 'Augmenting Human Creativity'\n",
      "No match found.\n",
      "\n",
      "🔗 Anchor Phrase: 'Human Creativity'\n",
      "No match found.\n",
      "\n",
      "🔗 Anchor Phrase: 'Google'\n"
     ]
    },
    {
     "data": {
      "application/vnd.jupyter.widget-view+json": {
       "model_id": "d45b9639f50c4b90a2fbe46472c7193f",
       "version_major": 2,
       "version_minor": 0
      },
      "text/plain": [
       "Dropdown(description='Google', layout=Layout(width='auto'), options=('Reject', 'SEO-Friendly AI Content: 5 Str…"
      ]
     },
     "metadata": {},
     "output_type": "display_data"
    },
    {
     "name": "stdout",
     "output_type": "stream",
     "text": [
      "\n",
      "🔗 Anchor Phrase: 'insights'\n"
     ]
    },
    {
     "data": {
      "application/vnd.jupyter.widget-view+json": {
       "model_id": "baed3c97c86c4f4f925ce37f6199489a",
       "version_major": 2,
       "version_minor": 0
      },
      "text/plain": [
       "Dropdown(description='insights', layout=Layout(width='auto'), options=('Reject', 'AI Marketing Insights Newsle…"
      ]
     },
     "metadata": {},
     "output_type": "display_data"
    },
    {
     "name": "stdout",
     "output_type": "stream",
     "text": [
      "\n",
      "🔗 Anchor Phrase: 'Content Performance Analysis'\n"
     ]
    },
    {
     "data": {
      "application/vnd.jupyter.widget-view+json": {
       "model_id": "4db74c840707426dbdfa1c01ff427ab7",
       "version_major": 2,
       "version_minor": 0
      },
      "text/plain": [
       "Dropdown(description='Content Performance ', layout=Layout(width='auto'), options=('Reject', 'Content Publishi…"
      ]
     },
     "metadata": {},
     "output_type": "display_data"
    }
   ],
   "source": [
    "from IPython.display import display, HTML\n",
    "import ipywidgets as widgets\n",
    "\n",
    "final_links = {}\n",
    "\n",
    "print(\"Review and select links for each anchor phrase:\")\n",
    "\n",
    "dropdown_widgets = []\n",
    "\n",
    "for phrase in anchor_phrases:\n",
    "    print(f\"\\n🔗 Anchor Phrase: '{phrase}'\")\n",
    "    suggestions = find_matches(phrase)\n",
    "    if suggestions:\n",
    "        options = ['Reject'] + [f\"{title} ({url})\" for title, url in suggestions]\n",
    "        dropdown = widgets.Dropdown(options=options, description=phrase[:20], layout=widgets.Layout(width='auto'))\n",
    "        dropdown_widgets.append((phrase, dropdown))\n",
    "        display(dropdown)\n",
    "    else:\n",
    "        print(\"No match found.\")\n"
   ]
  },
  {
   "cell_type": "code",
   "execution_count": 64,
   "id": "7890d014",
   "metadata": {},
   "outputs": [
    {
     "data": {
      "text/html": [
       "<h3>✅ Final HTML generated and saved as 'linked_article.html'</h3>"
      ],
      "text/plain": [
       "<IPython.core.display.HTML object>"
      ]
     },
     "metadata": {},
     "output_type": "display_data"
    }
   ],
   "source": [
    "html_output = article_text\n",
    "\n",
    "for phrase, dropdown in dropdown_widgets:\n",
    "    selection = dropdown.value\n",
    "    if selection != \"Reject\":\n",
    "        index = dropdown.options.index(selection) - 1\n",
    "        title, url = find_matches(phrase)[index]\n",
    "        linked = f'<a href=\"{url}\" title=\"{title}\">{phrase}</a>'\n",
    "        html_output = html_output.replace(phrase, linked, 1)\n",
    "\n",
    "# Save HTML file\n",
    "with open(\"linked_article.html\", \"w\", encoding=\"utf-8\") as f:\n",
    "    f.write(html_output)\n",
    "\n",
    "display(HTML(\"<h3>✅ Final HTML generated and saved as 'linked_article.html'</h3>\"))\n",
    "\n"
   ]
  },
  {
   "cell_type": "markdown",
   "id": "92cc67d6",
   "metadata": {},
   "source": [
    "# 🚀 Streamlit Web App for Interactive Link Insertion"
   ]
  },
  {
   "cell_type": "code",
   "execution_count": 65,
   "id": "d665bdc7",
   "metadata": {},
   "outputs": [
    {
     "name": "stdout",
     "output_type": "stream",
     "text": [
      "✅ Streamlit app saved as 'link_editor_streamlit.py'\n"
     ]
    }
   ],
   "source": [
    "streamlit_code = '''\n",
    "import streamlit as st\n",
    "import json\n",
    "from docx import Document\n",
    "from difflib import get_close_matches\n",
    "import yake\n",
    "\n",
    "# Load article\n",
    "doc = Document(\"The Role of AI in Modern Content Marketing.docx\")\n",
    "article_text = \"\\n\".join([p.text for p in doc.paragraphs if p.text.strip()])\n",
    "\n",
    "# Extract keywords using YAKE\n",
    "kw_extractor = yake.KeywordExtractor(lan=\"en\", n=3, top=15, dedupLim=0.9)\n",
    "keywords = kw_extractor.extract_keywords(article_text)\n",
    "anchor_phrases = [kw for kw, _ in keywords]\n",
    "\n",
    "# Load site index\n",
    "with open(\"site_content_index.json\", \"r\", encoding=\"utf-8\") as f:\n",
    "    site_index = json.load(f)\n",
    "\n",
    "def find_matches(phrase):\n",
    "    options = []\n",
    "    for page in site_index:\n",
    "        if phrase.lower() in page[\"title\"].lower():\n",
    "            options.append((page[\"title\"], page[\"url\"]))\n",
    "        elif any(phrase.lower() in h.lower() for h in page.get(\"h1\", [])):\n",
    "            options.append((page[\"title\"], page[\"url\"]))\n",
    "    if not options:\n",
    "        for page in site_index:\n",
    "            if get_close_matches(phrase.lower(), [page[\"title\"].lower()]):\n",
    "                options.append((page[\"title\"], page[\"url\"]))\n",
    "    return options[:3]\n",
    "\n",
    "st.title(\"🔗 Internal Link Suggestion Review\")\n",
    "\n",
    "final_links = {}\n",
    "\n",
    "for phrase in anchor_phrases:\n",
    "    st.markdown(f\"### 🔍 Anchor Phrase: `{phrase}`\")\n",
    "    suggestions = find_matches(phrase)\n",
    "    if suggestions:\n",
    "        options = [\"Reject\"] + [f\"{title} ({url})\" for title, url in suggestions]\n",
    "        selected = st.radio(\"Select a link:\", options, key=phrase)\n",
    "        if selected != \"Reject\":\n",
    "            final_links[phrase] = suggestions[options.index(selected) - 1]\n",
    "    else:\n",
    "        st.warning(\"No good match found.\")\n",
    "\n",
    "if st.button(\"Generate Final HTML\"):\n",
    "    html_output = article_text\n",
    "    for phrase, (title, url) in final_links.items():\n",
    "        linked = f'<a href=\"{url}\" title=\"{title}\">{phrase}</a>'\n",
    "        html_output = html_output.replace(phrase, linked, 1)\n",
    "    st.success(\"✅ Final HTML Generated!\")\n",
    "    st.download_button(\"Download HTML\", data=html_output, file_name=\"linked_article.html\", mime=\"text/html\")\n",
    "    st.code(html_output, language=\"html\")\n",
    "'''\n",
    "with open(\"link_editor_streamlit.py\", \"w\", encoding=\"utf-8\") as f:\n",
    "    f.write(streamlit_code)\n",
    "print(\"✅ Streamlit app saved as 'link_editor_streamlit.py'\")\n"
   ]
  }
 ],
 "metadata": {
  "kernelspec": {
   "display_name": "base",
   "language": "python",
   "name": "python3"
  },
  "language_info": {
   "codemirror_mode": {
    "name": "ipython",
    "version": 3
   },
   "file_extension": ".py",
   "mimetype": "text/x-python",
   "name": "python",
   "nbconvert_exporter": "python",
   "pygments_lexer": "ipython3",
   "version": "3.12.4"
  }
 },
 "nbformat": 4,
 "nbformat_minor": 5
}
